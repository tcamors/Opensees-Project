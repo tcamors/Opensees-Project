{
 "cells": [
  {
   "cell_type": "code",
   "execution_count": 6,
   "metadata": {},
   "outputs": [],
   "source": [
    "import veux\n",
    "import numpy as np\n",
    "import matplotlib.pyplot as plt\n",
    "import opensees.openseespy as ops\n",
    "from opensees.units.english import ksi, psi, inch, kip"
   ]
  },
  {
   "cell_type": "code",
   "execution_count": 4,
   "metadata": {},
   "outputs": [],
   "source": [
    "def create_frame_2_steel(material):\n",
    "    model = ops.Model('Basic', '-ndm', 2, ndf=3)\n",
    "\n",
    "    # Define nodes\n",
    "    coords = [\n",
    "        (1, 0.0, 0.0), (2, 120.0, 0.0), (3, 240.0, 0.0),\n",
    "        (4, 360.0, 0.0), (5, 480.0, 0.0), (6, 600.0, 0.0),\n",
    "        (7, 0.0, 120.0), (8, 120.0, 120.0), (9, 240.0, 120.0),\n",
    "        (10, 360.0, 120.0), (11, 480.0, 120.0), (12, 600.0, 120.0)\n",
    "    ]\n",
    "    for tag, x, y in coords:\n",
    "        model.node(tag, x * inch, y * inch)\n",
    "\n",
    "    # Fix all bottom nodes\n",
    "    for i in range(1, 7):\n",
    "        model.fix(i, (1, 1, 1))\n",
    "\n",
    "    # Define transformation\n",
    "    model.geomTransf('PDelta', 1)\n",
    "\n",
    "    # Define material\n",
    "    Fy = 50 * ksi\n",
    "    E0 = 29000 * ksi\n",
    "    b = 0.02\n",
    "    R0 = 20\n",
    "    R1 = 0.925\n",
    "    R2 = 0.15\n",
    "\n",
    "    if material == 'Steel01':\n",
    "        mat_tag = 1\n",
    "        model.uniaxialMaterial('Steel01', mat_tag, Fy, E0, b)\n",
    "    elif material == 'Steel02':\n",
    "        mat_tag = 2\n",
    "        model.uniaxialMaterial('Steel02', mat_tag, Fy, E0, b, R0, R1, R2)\n",
    "    else:\n",
    "        raise ValueError(\"Invalid material. Choose 'Steel01' or 'Steel02'.\")\n",
    "\n",
    "    # Define cross-section and section\n",
    "    side = 4 * inch\n",
    "    model.section('Fiber', 1)\n",
    "    model.fiber(-side/2, -side/2, 0.01, mat_tag, section=1)\n",
    "    model.fiber(side/2, -side/2, 0.01, mat_tag, section=1)\n",
    "    model.fiber(-side/2, side/2, 0.01, mat_tag, section=1)\n",
    "    model.fiber(side/2, side/2, 0.01, mat_tag, section=1)\n",
    "\n",
    "    model.beamIntegration('Lobatto', 1, 1, 4)\n",
    "\n",
    "    # Define columns\n",
    "    for i in range(6):\n",
    "        model.element('forceBeamColumn', i + 1, (i + 1, i + 7), 1, 1, 'iter', 30, 1e-12)\n",
    "\n",
    "    # Define beams\n",
    "    for i in range(5):\n",
    "        model.element('forceBeamColumn', i + 7, (i + 7, i + 8), 1, 1, 'iter', 30, 1e-12)\n",
    "\n",
    "    # Define truss elements\n",
    "    side_truss = 2 * inch\n",
    "    A_truss = side_truss ** 2\n",
    "    truss_conns = [\n",
    "        (1, 8), (2, 7), (2, 9), (3, 8), (3, 10), (4, 9),\n",
    "        (4, 11), (5, 10), (5, 12), (6, 11)\n",
    "    ]\n",
    "    for i, (n1, n2) in enumerate(truss_conns):\n",
    "        model.element('truss', 12 + i, (n1, n2), A_truss, mat_tag)\n",
    "\n",
    "    return model"
   ]
  },
  {
   "cell_type": "code",
   "execution_count": 5,
   "metadata": {},
   "outputs": [
    {
     "name": "stdout",
     "output_type": "stream",
     "text": [
      "\n",
      "    while executing\n",
      "\"fiber -2.0 -2.0 0.01 1 -section 1\"\n",
      "\n"
     ]
    },
    {
     "ename": "OpenSeesError",
     "evalue": "\n    while executing\n\"fiber -2.0 -2.0 0.01 1 -section 1\"",
     "output_type": "error",
     "traceback": [
      "\u001b[31m---------------------------------------------------------------------------\u001b[39m",
      "\u001b[31mTclError\u001b[39m                                  Traceback (most recent call last)",
      "\u001b[36mFile \u001b[39m\u001b[32mc:\\Users\\travi\\anaconda3\\envs\\ce221\\Lib\\site-packages\\opensees\\tcl.py:165\u001b[39m, in \u001b[36mInterpreter.eval\u001b[39m\u001b[34m(self, string)\u001b[39m\n\u001b[32m    164\u001b[39m \u001b[38;5;28;01mtry\u001b[39;00m:\n\u001b[32m--> \u001b[39m\u001b[32m165\u001b[39m     \u001b[38;5;28;01mreturn\u001b[39;00m \u001b[38;5;28mself\u001b[39m._tcl.tk.eval(string)\n\u001b[32m    167\u001b[39m \u001b[38;5;28;01mexcept\u001b[39;00m tkinter._tkinter.TclError \u001b[38;5;28;01mas\u001b[39;00m e:\n",
      "\u001b[31mTclError\u001b[39m: ",
      "\nDuring handling of the above exception, another exception occurred:\n",
      "\u001b[31mTclError\u001b[39m                                  Traceback (most recent call last)",
      "\u001b[36mFile \u001b[39m\u001b[32mc:\\Users\\travi\\anaconda3\\envs\\ce221\\Lib\\site-packages\\opensees\\openseespy.py:167\u001b[39m, in \u001b[36mOpenSeesPy._invoke_proc\u001b[39m\u001b[34m(self, proc_name, _final, _return_string, *args, **kwds)\u001b[39m\n\u001b[32m    166\u001b[39m \u001b[38;5;28;01mtry\u001b[39;00m:\n\u001b[32m--> \u001b[39m\u001b[32m167\u001b[39m     ret = \u001b[38;5;28;43mself\u001b[39;49m\u001b[43m.\u001b[49m\u001b[43meval\u001b[49m\u001b[43m(\u001b[49m\u001b[43mcmd\u001b[49m\u001b[43m)\u001b[49m\n\u001b[32m    168\u001b[39m \u001b[38;5;28;01mexcept\u001b[39;00m \u001b[38;5;167;01mException\u001b[39;00m \u001b[38;5;28;01mas\u001b[39;00m e:\n",
      "\u001b[36mFile \u001b[39m\u001b[32mc:\\Users\\travi\\anaconda3\\envs\\ce221\\Lib\\site-packages\\opensees\\openseespy.py:200\u001b[39m, in \u001b[36mOpenSeesPy.eval\u001b[39m\u001b[34m(self, cmd)\u001b[39m\n\u001b[32m    199\u001b[39m     \u001b[38;5;28mprint\u001b[39m(cmd, file=\u001b[38;5;28mself\u001b[39m._echo)\n\u001b[32m--> \u001b[39m\u001b[32m200\u001b[39m \u001b[38;5;28;01mreturn\u001b[39;00m \u001b[38;5;28;43mself\u001b[39;49m\u001b[43m.\u001b[49m\u001b[43m_interp\u001b[49m\u001b[43m.\u001b[49m\u001b[43meval\u001b[49m\u001b[43m(\u001b[49m\u001b[43mcmd\u001b[49m\u001b[43m)\u001b[49m\n",
      "\u001b[36mFile \u001b[39m\u001b[32mc:\\Users\\travi\\anaconda3\\envs\\ce221\\Lib\\site-packages\\opensees\\tcl.py:171\u001b[39m, in \u001b[36mInterpreter.eval\u001b[39m\u001b[34m(self, string)\u001b[39m\n\u001b[32m    170\u001b[39m \u001b[38;5;28mprint\u001b[39m(e)\n\u001b[32m--> \u001b[39m\u001b[32m171\u001b[39m \u001b[38;5;28;01mraise\u001b[39;00m TclError(\u001b[38;5;28mself\u001b[39m._tcl.getvar(\u001b[33m\"\u001b[39m\u001b[33merrorInfo\u001b[39m\u001b[33m\"\u001b[39m))\n",
      "\u001b[31mTclError\u001b[39m: \n    while executing\n\"fiber -2.0 -2.0 0.01 1 -section 1\"",
      "\nThe above exception was the direct cause of the following exception:\n",
      "\u001b[31mOpenSeesError\u001b[39m                             Traceback (most recent call last)",
      "\u001b[36mCell\u001b[39m\u001b[36m \u001b[39m\u001b[32mIn[5]\u001b[39m\u001b[32m, line 1\u001b[39m\n\u001b[32m----> \u001b[39m\u001b[32m1\u001b[39m model = \u001b[43mcreate_frame_2_steel\u001b[49m\u001b[43m(\u001b[49m\u001b[43mmaterial\u001b[49m\u001b[43m=\u001b[49m\u001b[33;43m'\u001b[39;49m\u001b[33;43mSteel01\u001b[39;49m\u001b[33;43m'\u001b[39;49m\u001b[43m)\u001b[49m\n",
      "\u001b[36mCell\u001b[39m\u001b[36m \u001b[39m\u001b[32mIn[4]\u001b[39m\u001b[32m, line 41\u001b[39m, in \u001b[36mcreate_frame_2_steel\u001b[39m\u001b[34m(material)\u001b[39m\n\u001b[32m     39\u001b[39m side = \u001b[32m4\u001b[39m * inch\n\u001b[32m     40\u001b[39m model.section(\u001b[33m'\u001b[39m\u001b[33mFiber\u001b[39m\u001b[33m'\u001b[39m, \u001b[32m1\u001b[39m)\n\u001b[32m---> \u001b[39m\u001b[32m41\u001b[39m \u001b[43mmodel\u001b[49m\u001b[43m.\u001b[49m\u001b[43mfiber\u001b[49m\u001b[43m(\u001b[49m\u001b[43m-\u001b[49m\u001b[43mside\u001b[49m\u001b[43m/\u001b[49m\u001b[32;43m2\u001b[39;49m\u001b[43m,\u001b[49m\u001b[43m \u001b[49m\u001b[43m-\u001b[49m\u001b[43mside\u001b[49m\u001b[43m/\u001b[49m\u001b[32;43m2\u001b[39;49m\u001b[43m,\u001b[49m\u001b[43m \u001b[49m\u001b[32;43m0.01\u001b[39;49m\u001b[43m,\u001b[49m\u001b[43m \u001b[49m\u001b[43mmat_tag\u001b[49m\u001b[43m,\u001b[49m\u001b[43m \u001b[49m\u001b[43msection\u001b[49m\u001b[43m=\u001b[49m\u001b[32;43m1\u001b[39;49m\u001b[43m)\u001b[49m\n\u001b[32m     42\u001b[39m model.fiber(side/\u001b[32m2\u001b[39m, -side/\u001b[32m2\u001b[39m, \u001b[32m0.01\u001b[39m, mat_tag, section=\u001b[32m1\u001b[39m)\n\u001b[32m     43\u001b[39m model.fiber(-side/\u001b[32m2\u001b[39m, side/\u001b[32m2\u001b[39m, \u001b[32m0.01\u001b[39m, mat_tag, section=\u001b[32m1\u001b[39m)\n",
      "\u001b[36mFile \u001b[39m\u001b[32mc:\\Users\\travi\\anaconda3\\envs\\ce221\\Lib\\site-packages\\opensees\\openseespy.py:403\u001b[39m, in \u001b[36mOpenSeesPy.fiber\u001b[39m\u001b[34m(self, *args, **kwds)\u001b[39m\n\u001b[32m    401\u001b[39m \u001b[38;5;28;01mif\u001b[39;00m \u001b[33m\"\u001b[39m\u001b[33msection\u001b[39m\u001b[33m\"\u001b[39m \u001b[38;5;129;01mnot\u001b[39;00m \u001b[38;5;129;01min\u001b[39;00m kwds:\n\u001b[32m    402\u001b[39m     kwds[\u001b[33m\"\u001b[39m\u001b[33msection\u001b[39m\u001b[33m\"\u001b[39m] = \u001b[38;5;28mself\u001b[39m._current_section\n\u001b[32m--> \u001b[39m\u001b[32m403\u001b[39m \u001b[38;5;28;01mreturn\u001b[39;00m \u001b[38;5;28;43mself\u001b[39;49m\u001b[43m.\u001b[49m\u001b[43m_invoke_proc\u001b[49m\u001b[43m(\u001b[49m\u001b[33;43m\"\u001b[39;49m\u001b[33;43mfiber\u001b[39;49m\u001b[33;43m\"\u001b[39;49m\u001b[43m,\u001b[49m\u001b[43m \u001b[49m\u001b[43m*\u001b[49m\u001b[43margs\u001b[49m\u001b[43m,\u001b[49m\u001b[43m \u001b[49m\u001b[43m*\u001b[49m\u001b[43m*\u001b[49m\u001b[43mkwds\u001b[49m\u001b[43m)\u001b[49m\n\u001b[32m    404\u001b[39m \u001b[38;5;28;01mreturn\u001b[39;00m \u001b[38;5;28mself\u001b[39m._invoke_proc(\u001b[33m\"\u001b[39m\u001b[33mfiber\u001b[39m\u001b[33m\"\u001b[39m, *args, \u001b[33m\"\u001b[39m\u001b[33m-section\u001b[39m\u001b[33m\"\u001b[39m, section, **kwds)\n",
      "\u001b[36mFile \u001b[39m\u001b[32mc:\\Users\\travi\\anaconda3\\envs\\ce221\\Lib\\site-packages\\opensees\\openseespy.py:171\u001b[39m, in \u001b[36mOpenSeesPy._invoke_proc\u001b[39m\u001b[34m(self, proc_name, _final, _return_string, *args, **kwds)\u001b[39m\n\u001b[32m    169\u001b[39m     \u001b[38;5;28;01mimport\u001b[39;00m\u001b[38;5;250m \u001b[39m\u001b[34;01msys\u001b[39;00m\n\u001b[32m    170\u001b[39m     sys.stderr.flush()\n\u001b[32m--> \u001b[39m\u001b[32m171\u001b[39m     \u001b[38;5;28;01mraise\u001b[39;00m OpenSeesError(\u001b[38;5;28mstr\u001b[39m(e)) \u001b[38;5;28;01mfrom\u001b[39;00m\u001b[38;5;250m \u001b[39m\u001b[34;01me\u001b[39;00m\n\u001b[32m    173\u001b[39m \u001b[38;5;28;01mif\u001b[39;00m ret \u001b[38;5;129;01mis\u001b[39;00m \u001b[38;5;28;01mNone\u001b[39;00m \u001b[38;5;129;01mor\u001b[39;00m ret == \u001b[33m\"\u001b[39m\u001b[33m\"\u001b[39m:\n\u001b[32m    174\u001b[39m     \u001b[38;5;28;01mreturn\u001b[39;00m \u001b[38;5;28;01mNone\u001b[39;00m\n",
      "\u001b[31mOpenSeesError\u001b[39m: \n    while executing\n\"fiber -2.0 -2.0 0.01 1 -section 1\""
     ]
    }
   ],
   "source": [
    "model = create_frame_2_steel(material='Steel01')"
   ]
  }
 ],
 "metadata": {
  "kernelspec": {
   "display_name": "ce221",
   "language": "python",
   "name": "python3"
  },
  "language_info": {
   "codemirror_mode": {
    "name": "ipython",
    "version": 3
   },
   "file_extension": ".py",
   "mimetype": "text/x-python",
   "name": "python",
   "nbconvert_exporter": "python",
   "pygments_lexer": "ipython3",
   "version": "3.11.11"
  }
 },
 "nbformat": 4,
 "nbformat_minor": 2
}
